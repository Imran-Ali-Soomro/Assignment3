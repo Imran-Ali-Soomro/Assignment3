{
 "cells": [
  {
   "cell_type": "code",
   "execution_count": 3,
   "id": "3bde71cd",
   "metadata": {},
   "outputs": [
    {
     "name": "stdout",
     "output_type": "stream",
     "text": [
      "Twinkle, twinkle, little star,\n",
      "\tHow I wonder what you are!\n",
      "\t\tUp above the world so high,\n",
      "\t\tLike a diamond in the sky.\n",
      "Twinkle, twinkle, little star,\n",
      "\tHow I wonder what you are\n"
     ]
    }
   ],
   "source": [
    "'''1. Write a Python program to print the following string in a specific format (see the \n",
    "output). \n",
    "        Twinkle, twinkle, little star, \n",
    "            How I wonder what you are! \n",
    "                Up above the world so high, \n",
    "                Like a diamond in the sky. \n",
    "         Twinkle, twinkle, little star, \n",
    "            How I wonder what you are '''\n",
    "\n",
    "print(\"Twinkle, twinkle, little star,\\n\\tHow I wonder what you are!\\n\\t\\tUp above the world so high,\\n\\t\\tLike a diamond in the sky.\\nTwinkle, twinkle, little star,\\n\\tHow I wonder what you are\");"
   ]
  },
  {
   "cell_type": "code",
   "execution_count": 25,
   "id": "3bcec252",
   "metadata": {},
   "outputs": [
    {
     "name": "stdout",
     "output_type": "stream",
     "text": [
      "Python Version: 3.8.8\n"
     ]
    }
   ],
   "source": [
    "#2. Write a Python program to get the Python version you are using\n",
    "import platform;\n",
    "\n",
    "print(\"Python Version: \"+platform.python_version());"
   ]
  },
  {
   "cell_type": "code",
   "execution_count": 26,
   "id": "38b1aa42",
   "metadata": {},
   "outputs": [
    {
     "name": "stdout",
     "output_type": "stream",
     "text": [
      "Current Date and Time: 22-10-2021 22:04:02\n"
     ]
    }
   ],
   "source": [
    "#3. Write a Python program to display the current date and time.\n",
    "import datetime;\n",
    "\n",
    "now = datetime.datetime.now();\n",
    "print(\"Current Date and Time: \"+now.strftime(\"%d-%m-%Y %H:%M:%S\"));"
   ]
  },
  {
   "cell_type": "code",
   "execution_count": 37,
   "id": "f90f04ba",
   "metadata": {},
   "outputs": [
    {
     "name": "stdout",
     "output_type": "stream",
     "text": [
      "Enter radius of Circle: 3.6\n",
      "Area of Circle is: 35.53057584392169\n"
     ]
    }
   ],
   "source": [
    "'''4. Write a Python program which accepts the radius of a circle from the user and compute \n",
    "the area.'''\n",
    "from math import pi\n",
    "\n",
    "radius= float(input(\"Enter radius of Circle: \"));\n",
    "print(\"Area of Circle is: \"+str(pi**2*radius));    #str converts number to string [Learnd 1st time]"
   ]
  },
  {
   "cell_type": "code",
   "execution_count": 41,
   "id": "e321f44f",
   "metadata": {},
   "outputs": [
    {
     "name": "stdout",
     "output_type": "stream",
     "text": [
      "Enter first name: Imran\n",
      "Enter first name: Ali\n",
      "Asslam-u-Alaikum: Ali Imran\n"
     ]
    }
   ],
   "source": [
    "'''5. Write a Python program which accepts the user's first and last name and print them in \n",
    "reverse order with a space between them. '''\n",
    "first_name = input(\"Enter first name: \");\n",
    "last_name = input(\"Enter first name: \");\n",
    "\n",
    "print(\"Asslam-u-Alaikum: \"+last_name+\" \"+first_name);"
   ]
  },
  {
   "cell_type": "code",
   "execution_count": 52,
   "id": "0be22dfc",
   "metadata": {},
   "outputs": [
    {
     "name": "stdout",
     "output_type": "stream",
     "text": [
      "Enter 1st inputs: 12\n",
      "Enter second inputs: 16\n",
      "Sum of two inputs is: 28\n"
     ]
    }
   ],
   "source": [
    "#6. Write a python program which takes two inputs from user and print them addition\n",
    "num1 = int(input(\"Enter 1st inputs: \")); \n",
    "num2 = int(input(\"Enter second inputs: \"));\n",
    "\n",
    "print(\"Sum of two inputs is: \"+str(num1+num2));"
   ]
  },
  {
   "cell_type": "code",
   "execution_count": 55,
   "id": "eab5f785",
   "metadata": {},
   "outputs": [
    {
     "name": "stdout",
     "output_type": "stream",
     "text": [
      "Enter marks of Physics: 96\n",
      "Enter marks of Maths: 95\n",
      "Enter marks of Chemistry: 89\n",
      "Enter marks of English: 76\n",
      "Enter marks of History: 86\n",
      "Grade is A\n"
     ]
    }
   ],
   "source": [
    "#7. Write a program which takes 5 inputs from user for different subject’s marks, total it \n",
    "#and generate mark sheet using grades ?\n",
    "\n",
    "Physics = int(input(\"Enter marks of Physics: \"));\n",
    "Maths = int(input(\"Enter marks of Maths: \"));\n",
    "Chemistry = int(input(\"Enter marks of Chemistry: \"));\n",
    "English = int(input(\"Enter marks of English: \"));\n",
    "History = int(input(\"Enter marks of History: \"));\n",
    "total_marks=500;\n",
    "Obtained_marks= Physics+Maths+Chemistry+English+History;\n",
    "perc = Obtained_marks/total_marks *100.0;\n",
    "\n",
    "if(perc>0):\n",
    "    if perc>90  and perc<=100:\n",
    "        print(\"Grade is A+\")\n",
    "    elif perc>82  and perc<=90:\n",
    "        print(\"Grade is A\")\n",
    "    elif perc>74  and perc<=82:\n",
    "        print(\"Grade is B+\")\n",
    "    elif perc>64  and perc<=74:\n",
    "        print(\"Grade is B\")\n",
    "    elif perc>60  and perc<=64:\n",
    "        print(\"Grade is C+\")\n",
    "    elif perc>50  and perc<=60:\n",
    "        print(\"Grade is C\")\n",
    "    else:\n",
    "        print(\"Grade is F\")\n",
    "else:\n",
    "    print(\"Invalid!!! Please, Enter a valid positive number!!!\");\n"
   ]
  },
  {
   "cell_type": "code",
   "execution_count": 59,
   "id": "d763f8e6",
   "metadata": {},
   "outputs": [
    {
     "name": "stdout",
     "output_type": "stream",
     "text": [
      "Enter a number: 6\n",
      "Number is Even...\n"
     ]
    }
   ],
   "source": [
    "#8. Write a program which take input from user and identify that the given number is even \n",
    "#or odd?\n",
    "num = int(input(\"Enter a number: \"));\n",
    "if num%2==0:\n",
    "    print(\"Number is Even...\");\n",
    "else:\n",
    "    print(\"Number is Odd...\");\n"
   ]
  },
  {
   "cell_type": "code",
   "execution_count": 67,
   "id": "dfe3275b",
   "metadata": {},
   "outputs": [
    {
     "name": "stdout",
     "output_type": "stream",
     "text": [
      "Length of list is:  5\n"
     ]
    }
   ],
   "source": [
    "#9. Write a program which print the length of the list?\n",
    "IAS = [\"Imran\", \"Ali\", \"19CS\", 20, \"Dadu\"];\n",
    "print(\"Length of list is: \", len(IAS));"
   ]
  },
  {
   "cell_type": "code",
   "execution_count": 70,
   "id": "676cb24b",
   "metadata": {},
   "outputs": [
    {
     "name": "stdout",
     "output_type": "stream",
     "text": [
      "11\n"
     ]
    }
   ],
   "source": [
    "#10.Write a Python program to sum all the numeric items in a list? \n",
    "iasList=[4,5,-3,6,-1];\n",
    "sum=0;\n",
    "for x in iasList:\n",
    "    sum+=x;\n",
    "print(sum);"
   ]
  },
  {
   "cell_type": "code",
   "execution_count": 72,
   "id": "69dccfb6",
   "metadata": {},
   "outputs": [
    {
     "name": "stdout",
     "output_type": "stream",
     "text": [
      "63\n"
     ]
    }
   ],
   "source": [
    "#11.Write a Python program to get the largest number from a numeric list.\n",
    "def ias_List(A_list):       #similar like method defination\n",
    "    largest=A_list[0];\n",
    "    for x in A_list:\n",
    "        if largest<x:\n",
    "            largest=x;\n",
    "    return largest;\n",
    "print(ias_List([10,44,-22,63,-51]));"
   ]
  },
  {
   "cell_type": "code",
   "execution_count": 76,
   "id": "0db469c5",
   "metadata": {},
   "outputs": [
    {
     "name": "stdout",
     "output_type": "stream",
     "text": [
      "1\n",
      "1\n",
      "2\n",
      "3\n"
     ]
    }
   ],
   "source": [
    "#12. Take a list, say for example this one:\n",
    "#     a= [1, 1, 2, 3, 5, 8, 13, 21, 34, 55, 89] \n",
    "# Write a program that prints out all the elements of the list that are less than 5.\n",
    "\n",
    "a = [1, 1, 2, 3, 5, 8, 13, 21, 34, 55, 89];\n",
    "\n",
    "for item in a:\n",
    "    if item<5:\n",
    "        print(item);\n"
   ]
  },
  {
   "cell_type": "code",
   "execution_count": null,
   "id": "f533dad0",
   "metadata": {},
   "outputs": [],
   "source": []
  }
 ],
 "metadata": {
  "kernelspec": {
   "display_name": "Python 3",
   "language": "python",
   "name": "python3"
  },
  "language_info": {
   "codemirror_mode": {
    "name": "ipython",
    "version": 3
   },
   "file_extension": ".py",
   "mimetype": "text/x-python",
   "name": "python",
   "nbconvert_exporter": "python",
   "pygments_lexer": "ipython3",
   "version": "3.8.8"
  }
 },
 "nbformat": 4,
 "nbformat_minor": 5
}
